{
 "cells": [
  {
   "cell_type": "code",
   "execution_count": 5,
   "id": "71ca31ee-72e2-4448-9aed-1bd4546104a6",
   "metadata": {},
   "outputs": [
    {
     "name": "stdout",
     "output_type": "stream",
     "text": [
      "hello world\n"
     ]
    }
   ],
   "source": [
    "print(\"hello world\")"
   ]
  },
  {
   "cell_type": "code",
   "execution_count": 7,
   "id": "b3366f14-6f6e-4882-afa1-3346df7db2db",
   "metadata": {},
   "outputs": [
    {
     "name": "stdout",
     "output_type": "stream",
     "text": [
      "5\n"
     ]
    }
   ],
   "source": [
    "print(5)"
   ]
  },
  {
   "cell_type": "code",
   "execution_count": 9,
   "id": "9b62a28a-782e-4ba7-8d45-b8ee0566d94d",
   "metadata": {},
   "outputs": [
    {
     "data": {
      "text/plain": [
       "3"
      ]
     },
     "execution_count": 9,
     "metadata": {},
     "output_type": "execute_result"
    }
   ],
   "source": [
    "3\n"
   ]
  },
  {
   "cell_type": "code",
   "execution_count": 11,
   "id": "0004d24f-62ff-4ae3-93ec-d3b4c888604c",
   "metadata": {},
   "outputs": [
    {
     "data": {
      "text/plain": [
       "float"
      ]
     },
     "execution_count": 11,
     "metadata": {},
     "output_type": "execute_result"
    }
   ],
   "source": [
    "type(2.5)"
   ]
  },
  {
   "cell_type": "code",
   "execution_count": 13,
   "id": "5a9dcd4f-f18d-4669-ab0f-e804867e5f09",
   "metadata": {},
   "outputs": [
    {
     "data": {
      "text/plain": [
       "2.0"
      ]
     },
     "execution_count": 13,
     "metadata": {},
     "output_type": "execute_result"
    }
   ],
   "source": [
    "4/2"
   ]
  },
  {
   "cell_type": "code",
   "execution_count": 17,
   "id": "c74184c4-fb4b-4d42-81d5-16e18864dacf",
   "metadata": {},
   "outputs": [
    {
     "name": "stdout",
     "output_type": "stream",
     "text": [
      "elektornik ve haberleşme müh.\n"
     ]
    }
   ],
   "source": [
    "strvar=\"elektornik ve haberleşme müh.\"\n",
    "print(strvar)"
   ]
  },
  {
   "cell_type": "code",
   "execution_count": 23,
   "id": "7a216f9e-7f1a-4906-ab28-732befe4eaab",
   "metadata": {},
   "outputs": [
    {
     "name": "stdout",
     "output_type": "stream",
     "text": [
      "python\n"
     ]
    }
   ],
   "source": [
    "strvar=\"python\"\n",
    "print(strvar)"
   ]
  },
  {
   "cell_type": "code",
   "execution_count": 25,
   "id": "93e4519b-af0e-4133-b23f-5b6e2404a8d3",
   "metadata": {},
   "outputs": [
    {
     "data": {
      "text/plain": [
       "'t'"
      ]
     },
     "execution_count": 25,
     "metadata": {},
     "output_type": "execute_result"
    }
   ],
   "source": [
    "strvar[2]"
   ]
  },
  {
   "cell_type": "code",
   "execution_count": 27,
   "id": "e668f42b-a0cd-41e1-8fcb-379b426a2715",
   "metadata": {},
   "outputs": [
    {
     "data": {
      "text/plain": [
       "'o'"
      ]
     },
     "execution_count": 27,
     "metadata": {},
     "output_type": "execute_result"
    }
   ],
   "source": [
    "strvar[-2]"
   ]
  },
  {
   "cell_type": "code",
   "execution_count": 29,
   "id": "00dae19a-077d-4669-bfec-269c74e4cbce",
   "metadata": {},
   "outputs": [
    {
     "data": {
      "text/plain": [
       "'th'"
      ]
     },
     "execution_count": 29,
     "metadata": {},
     "output_type": "execute_result"
    }
   ],
   "source": [
    "strvar[2:-2]"
   ]
  },
  {
   "cell_type": "code",
   "execution_count": 33,
   "id": "abe08029-8462-4745-9223-69c18c95c62a",
   "metadata": {},
   "outputs": [
    {
     "data": {
      "text/plain": [
       "'ython'"
      ]
     },
     "execution_count": 33,
     "metadata": {},
     "output_type": "execute_result"
    }
   ],
   "source": [
    "strvar[1:]"
   ]
  },
  {
   "cell_type": "code",
   "execution_count": 35,
   "id": "b01a0452-73e7-4330-bb88-02615d162c77",
   "metadata": {},
   "outputs": [
    {
     "data": {
      "text/plain": [
       "'pyt'"
      ]
     },
     "execution_count": 35,
     "metadata": {},
     "output_type": "execute_result"
    }
   ],
   "source": [
    "strvar[:-3]"
   ]
  },
  {
   "cell_type": "code",
   "execution_count": null,
   "id": "5663f7d3-c9b4-4be4-ba58-87955a682f4c",
   "metadata": {},
   "outputs": [],
   "source": []
  },
  {
   "cell_type": "code",
   "execution_count": 39,
   "id": "641e2f44-2934-4c08-9fdf-6238b0d73402",
   "metadata": {},
   "outputs": [
    {
     "data": {
      "text/plain": [
       "'yo'"
      ]
     },
     "execution_count": 39,
     "metadata": {},
     "output_type": "execute_result"
    }
   ],
   "source": [
    "strvar[1:5:3]\n",
    "\n"
   ]
  },
  {
   "cell_type": "code",
   "execution_count": 57,
   "id": "28d847b8-62f0-4ff9-b187-5b4f707612f4",
   "metadata": {},
   "outputs": [
    {
     "name": "stdout",
     "output_type": "stream",
     "text": [
      "python\n"
     ]
    }
   ],
   "source": [
    "strvar= \"python\"\n",
    "print(strvar)"
   ]
  },
  {
   "cell_type": "code",
   "execution_count": 59,
   "id": "0ca264df-7801-4bf2-a4be-ff132f0a18bb",
   "metadata": {},
   "outputs": [],
   "source": [
    "strvar= strvar +\" öğren\"\n",
    "print\n"
   ]
  },
  {
   "cell_type": "code",
   "execution_count": null,
   "id": "84434df9-7071-4f36-b029-f40946054169",
   "metadata": {},
   "outputs": [],
   "source": []
  }
 ],
 "metadata": {
  "kernelspec": {
   "display_name": "Python [conda env:base] *",
   "language": "python",
   "name": "conda-base-py"
  },
  "language_info": {
   "codemirror_mode": {
    "name": "ipython",
    "version": 3
   },
   "file_extension": ".py",
   "mimetype": "text/x-python",
   "name": "python",
   "nbconvert_exporter": "python",
   "pygments_lexer": "ipython3",
   "version": "3.12.7"
  }
 },
 "nbformat": 4,
 "nbformat_minor": 5
}
