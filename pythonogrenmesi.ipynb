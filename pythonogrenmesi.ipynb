{
 "cells": [
  {
   "cell_type": "code",
   "execution_count": 5,
   "id": "71ca31ee-72e2-4448-9aed-1bd4546104a6",
   "metadata": {},
   "outputs": [
    {
     "name": "stdout",
     "output_type": "stream",
     "text": [
      "hello world\n"
     ]
    }
   ],
   "source": [
    "print(\"hello world\")"
   ]
  },
  {
   "cell_type": "code",
   "execution_count": 7,
   "id": "b3366f14-6f6e-4882-afa1-3346df7db2db",
   "metadata": {},
   "outputs": [
    {
     "name": "stdout",
     "output_type": "stream",
     "text": [
      "5\n"
     ]
    }
   ],
   "source": [
    "print(5)"
   ]
  },
  {
   "cell_type": "code",
   "execution_count": 9,
   "id": "9b62a28a-782e-4ba7-8d45-b8ee0566d94d",
   "metadata": {},
   "outputs": [
    {
     "data": {
      "text/plain": [
       "3"
      ]
     },
     "execution_count": 9,
     "metadata": {},
     "output_type": "execute_result"
    }
   ],
   "source": [
    "3\n"
   ]
  },
  {
   "cell_type": "code",
   "execution_count": 11,
   "id": "0004d24f-62ff-4ae3-93ec-d3b4c888604c",
   "metadata": {},
   "outputs": [
    {
     "data": {
      "text/plain": [
       "float"
      ]
     },
     "execution_count": 11,
     "metadata": {},
     "output_type": "execute_result"
    }
   ],
   "source": [
    "type(2.5)"
   ]
  },
  {
   "cell_type": "code",
   "execution_count": 13,
   "id": "5a9dcd4f-f18d-4669-ab0f-e804867e5f09",
   "metadata": {},
   "outputs": [
    {
     "data": {
      "text/plain": [
       "2.0"
      ]
     },
     "execution_count": 13,
     "metadata": {},
     "output_type": "execute_result"
    }
   ],
   "source": [
    "4/2"
   ]
  },
  {
   "cell_type": "code",
   "execution_count": 17,
   "id": "c74184c4-fb4b-4d42-81d5-16e18864dacf",
   "metadata": {},
   "outputs": [
    {
     "name": "stdout",
     "output_type": "stream",
     "text": [
      "elektornik ve haberleşme müh.\n"
     ]
    }
   ],
   "source": [
    "strvar=\"elektornik ve haberleşme müh.\"\n",
    "print(strvar)"
   ]
  },
  {
   "cell_type": "code",
   "execution_count": 23,
   "id": "7a216f9e-7f1a-4906-ab28-732befe4eaab",
   "metadata": {},
   "outputs": [
    {
     "name": "stdout",
     "output_type": "stream",
     "text": [
      "python\n"
     ]
    }
   ],
   "source": [
    "strvar=\"python\"\n",
    "print(strvar)"
   ]
  },
  {
   "cell_type": "code",
   "execution_count": 25,
   "id": "93e4519b-af0e-4133-b23f-5b6e2404a8d3",
   "metadata": {},
   "outputs": [
    {
     "data": {
      "text/plain": [
       "'t'"
      ]
     },
     "execution_count": 25,
     "metadata": {},
     "output_type": "execute_result"
    }
   ],
   "source": [
    "strvar[2]"
   ]
  },
  {
   "cell_type": "code",
   "execution_count": 27,
   "id": "e668f42b-a0cd-41e1-8fcb-379b426a2715",
   "metadata": {},
   "outputs": [
    {
     "data": {
      "text/plain": [
       "'o'"
      ]
     },
     "execution_count": 27,
     "metadata": {},
     "output_type": "execute_result"
    }
   ],
   "source": [
    "strvar[-2]"
   ]
  },
  {
   "cell_type": "code",
   "execution_count": 29,
   "id": "00dae19a-077d-4669-bfec-269c74e4cbce",
   "metadata": {},
   "outputs": [
    {
     "data": {
      "text/plain": [
       "'th'"
      ]
     },
     "execution_count": 29,
     "metadata": {},
     "output_type": "execute_result"
    }
   ],
   "source": [
    "strvar[2:-2]"
   ]
  },
  {
   "cell_type": "code",
   "execution_count": 33,
   "id": "abe08029-8462-4745-9223-69c18c95c62a",
   "metadata": {},
   "outputs": [
    {
     "data": {
      "text/plain": [
       "'ython'"
      ]
     },
     "execution_count": 33,
     "metadata": {},
     "output_type": "execute_result"
    }
   ],
   "source": [
    "strvar[1:]"
   ]
  },
  {
   "cell_type": "code",
   "execution_count": 35,
   "id": "b01a0452-73e7-4330-bb88-02615d162c77",
   "metadata": {},
   "outputs": [
    {
     "data": {
      "text/plain": [
       "'pyt'"
      ]
     },
     "execution_count": 35,
     "metadata": {},
     "output_type": "execute_result"
    }
   ],
   "source": [
    "strvar[:-3]"
   ]
  },
  {
   "cell_type": "code",
   "execution_count": null,
   "id": "5663f7d3-c9b4-4be4-ba58-87955a682f4c",
   "metadata": {},
   "outputs": [],
   "source": []
  },
  {
   "cell_type": "code",
   "execution_count": 39,
   "id": "641e2f44-2934-4c08-9fdf-6238b0d73402",
   "metadata": {},
   "outputs": [
    {
     "data": {
      "text/plain": [
       "'yo'"
      ]
     },
     "execution_count": 39,
     "metadata": {},
     "output_type": "execute_result"
    }
   ],
   "source": [
    "strvar[1:5:3]\n",
    "\n"
   ]
  },
  {
   "cell_type": "code",
   "execution_count": 36,
   "id": "28d847b8-62f0-4ff9-b187-5b4f707612f4",
   "metadata": {},
   "outputs": [
    {
     "data": {
      "text/plain": [
       "'İKTUAV CAMPİON '"
      ]
     },
     "execution_count": 36,
     "metadata": {},
     "output_type": "execute_result"
    }
   ],
   "source": [
    "strvar= \"İKTUAV\"\n",
    "strvar= strvar + \" CAMPİON \"\n",
    "strvar\n"
   ]
  },
  {
   "cell_type": "code",
   "execution_count": 38,
   "id": "54165652-2554-4bd6-9bb1-8b069e56db60",
   "metadata": {},
   "outputs": [
    {
     "data": {
      "text/plain": [
       "'İKTUAV CAMPİON İKTUAV CAMPİON İKTUAV CAMPİON İKTUAV CAMPİON İKTUAV CAMPİON İKTUAV CAMPİON İKTUAV CAMPİON İKTUAV CAMPİON İKTUAV CAMPİON İKTUAV CAMPİON '"
      ]
     },
     "execution_count": 38,
     "metadata": {},
     "output_type": "execute_result"
    }
   ],
   "source": [
    "strvar*10"
   ]
  },
  {
   "cell_type": "code",
   "execution_count": 40,
   "id": "9257672d-a044-4041-827c-95e91cdcc94b",
   "metadata": {},
   "outputs": [
    {
     "data": {
      "text/plain": [
       "'İKTUAV CAMPİON '"
      ]
     },
     "execution_count": 40,
     "metadata": {},
     "output_type": "execute_result"
    }
   ],
   "source": [
    "strvar\n",
    "\n"
   ]
  },
  {
   "cell_type": "code",
   "execution_count": 58,
   "id": "162bbcd2-77a7-4056-80c4-24803f5a4b78",
   "metadata": {},
   "outputs": [
    {
     "name": "stdout",
     "output_type": "stream",
     "text": [
      "İKTUAV CAMPİON \n",
      "i̇ktuav campi̇on \n",
      "['', 'KTUAV CAMP', 'ON ']\n"
     ]
    }
   ],
   "source": [
    "print(strvar.upper())\n",
    "print(strvar.lower())\n",
    "print(strvar.split(\"İ\"))\n"
   ]
  },
  {
   "cell_type": "code",
   "execution_count": 66,
   "id": "d257fa29-31be-43a4-94cc-cc4006a34632",
   "metadata": {},
   "outputs": [
    {
     "name": "stdout",
     "output_type": "stream",
     "text": [
      "True\n",
      "False\n"
     ]
    }
   ],
   "source": [
    "a= True\n",
    "b= False \n",
    "print(a)\n",
    "print(b)"
   ]
  },
  {
   "cell_type": "code",
   "execution_count": 72,
   "id": "a76d5a90-10d6-4694-ad90-73888e055b26",
   "metadata": {},
   "outputs": [
    {
     "name": "stdout",
     "output_type": "stream",
     "text": [
      "True\n"
     ]
    },
    {
     "data": {
      "text/plain": [
       "False"
      ]
     },
     "execution_count": 72,
     "metadata": {},
     "output_type": "execute_result"
    }
   ],
   "source": [
    "yaş1=18\n",
    "yaş2=20\n",
    "print(yaş2>18)\n",
    "yaş1==18\n",
    "yaş1!=18"
   ]
  },
  {
   "cell_type": "code",
   "execution_count": 103,
   "id": "1158878c-9314-4cab-9294-50156e9f0b2f",
   "metadata": {},
   "outputs": [
    {
     "name": "stdout",
     "output_type": "stream",
     "text": [
      "['a', 'b', 'c', 'd', 'e', 'a']\n"
     ]
    }
   ],
   "source": [
    "liste=['a' , 'b' , 'c' , 'd' , 'e' , 'a']\n",
    "print(liste)\n"
   ]
  },
  {
   "cell_type": "code",
   "execution_count": 107,
   "id": "dcef5753-7894-4024-b302-be10b77bc565",
   "metadata": {},
   "outputs": [
    {
     "name": "stdout",
     "output_type": "stream",
     "text": [
      "['a', 'b', 'c', 'd', 'e', 'a', 'f', 'f']\n"
     ]
    }
   ],
   "source": [
    "liste = liste + ['f']\n",
    "print(liste)"
   ]
  },
  {
   "cell_type": "code",
   "execution_count": 109,
   "id": "8ab78d05-a0d4-469a-8aae-ef9f226a6b91",
   "metadata": {},
   "outputs": [
    {
     "name": "stdout",
     "output_type": "stream",
     "text": [
      "['a', 'b', 'c', 'd', 'e', 'a', 'f', 'f', '3']\n"
     ]
    }
   ],
   "source": [
    "liste= liste +['3']\n",
    "print(liste)"
   ]
  },
  {
   "cell_type": "code",
   "execution_count": 113,
   "id": "b94aefcc-1f44-4c9c-8723-81fa886262dd",
   "metadata": {},
   "outputs": [
    {
     "data": {
      "text/plain": [
       "['d', 'a', 'f']"
      ]
     },
     "execution_count": 113,
     "metadata": {},
     "output_type": "execute_result"
    }
   ],
   "source": [
    "liste[3:8:2]"
   ]
  },
  {
   "cell_type": "code",
   "execution_count": 119,
   "id": "38cdc4bc-68b7-4f4b-9a58-6066f67887bc",
   "metadata": {},
   "outputs": [
    {
     "name": "stdout",
     "output_type": "stream",
     "text": [
      "['a', 'b', 'c', 'd', 'e', 'a', 'f', 'f', '3', 'g', 'g', 'g']\n"
     ]
    }
   ],
   "source": [
    "liste.append('g')\n",
    "print(liste)"
   ]
  },
  {
   "cell_type": "code",
   "execution_count": 125,
   "id": "215b5725-c8a4-4490-8527-c714f67b31ed",
   "metadata": {},
   "outputs": [
    {
     "data": {
      "text/plain": [
       "'g'"
      ]
     },
     "execution_count": 125,
     "metadata": {},
     "output_type": "execute_result"
    }
   ],
   "source": [
    "liste.pop()"
   ]
  },
  {
   "cell_type": "code",
   "execution_count": 127,
   "id": "4013d78a-ce75-4443-b419-b0b606a8d3aa",
   "metadata": {},
   "outputs": [
    {
     "name": "stdout",
     "output_type": "stream",
     "text": [
      "['a', 'b', 'c', 'd', 'e', 'a', 'f', 'f', '3', 'g']\n"
     ]
    }
   ],
   "source": [
    "print(liste)"
   ]
  },
  {
   "cell_type": "code",
   "execution_count": 133,
   "id": "78a93062-f60b-46fd-9f66-3730da82b1b4",
   "metadata": {},
   "outputs": [
    {
     "name": "stdout",
     "output_type": "stream",
     "text": [
      "['a', 'b', 'c', 'd', 'e', 'a', 'f']\n"
     ]
    }
   ],
   "source": [
    "liste.pop(7)\n",
    "print(liste)"
   ]
  },
  {
   "cell_type": "code",
   "execution_count": 159,
   "id": "2bd40b11-0202-4223-9311-c0085c894394",
   "metadata": {},
   "outputs": [],
   "source": [
    "sayılar = [10,19,17,29,11,23,31,33,33]\n",
    "sayılar.sort()"
   ]
  },
  {
   "cell_type": "code",
   "execution_count": 161,
   "id": "3a7664a1-1b7e-4864-a53a-e216a8619191",
   "metadata": {},
   "outputs": [
    {
     "name": "stdout",
     "output_type": "stream",
     "text": [
      "[10, 11, 17, 19, 23, 29, 31, 33, 33]\n"
     ]
    }
   ],
   "source": [
    "print(sayılar)"
   ]
  },
  {
   "cell_type": "code",
   "execution_count": 209,
   "id": "a3c70423-cb3e-4dca-bf7e-5fab6cfe3087",
   "metadata": {},
   "outputs": [
    {
     "name": "stdout",
     "output_type": "stream",
     "text": [
      "[33, 33, 31, 29, 23, 19, 17, 11, 10]\n"
     ]
    }
   ],
   "source": [
    "sayılar.reverse()\n",
    "print(sayılar)"
   ]
  },
  {
   "cell_type": "code",
   "execution_count": 227,
   "id": "bbf02701-26ca-495c-89a5-b71b8a4cd95c",
   "metadata": {},
   "outputs": [
    {
     "data": {
      "text/plain": [
       "{'adı': 'ahmet',\n",
       " 'takımı ': 'İKTUAV',\n",
       " 'kütük': {'doğduğu şehir': 'Trabzon', 'yaşadığı şehir': 'Kocaeli'}}"
      ]
     },
     "execution_count": 227,
     "metadata": {},
     "output_type": "execute_result"
    }
   ],
   "source": [
    "dict={\n",
    "    'adı' : 'ahmet' ,\n",
    "   # 'yas' : 22,\n",
    "    'takımı ' : 'İKTUAV',\n",
    "    'kütük'  :  {\n",
    "        'doğduğu şehir' : 'Trabzon',\n",
    "        'yaşadığı şehir' : 'Kocaeli'\n",
    "    }\n",
    "}\n",
    "dict"
   ]
  },
  {
   "cell_type": "code",
   "execution_count": 229,
   "id": "433cf90f-6761-4515-b45d-ba9af0fcc63e",
   "metadata": {},
   "outputs": [
    {
     "data": {
      "text/plain": [
       "{'doğduğu şehir': 'Trabzon', 'yaşadığı şehir': 'Kocaeli'}"
      ]
     },
     "execution_count": 229,
     "metadata": {},
     "output_type": "execute_result"
    }
   ],
   "source": [
    "dict['kütük']"
   ]
  },
  {
   "cell_type": "code",
   "execution_count": 239,
   "id": "f519e787-b457-4171-9f17-1dad84790627",
   "metadata": {},
   "outputs": [
    {
     "data": {
      "text/plain": [
       "'ahmet'"
      ]
     },
     "execution_count": 239,
     "metadata": {},
     "output_type": "execute_result"
    }
   ],
   "source": [
    "dict.get('adı')"
   ]
  },
  {
   "cell_type": "code",
   "execution_count": 241,
   "id": "a18a5269-d1a4-406e-8292-130e001d3c3f",
   "metadata": {},
   "outputs": [
    {
     "data": {
      "text/plain": [
       "'Trabzon'"
      ]
     },
     "execution_count": 241,
     "metadata": {},
     "output_type": "execute_result"
    }
   ],
   "source": [
    "dict['kütük']['doğduğu şehir']"
   ]
  },
  {
   "cell_type": "code",
   "execution_count": 243,
   "id": "20e15a7d-46e1-4968-bc80-2f3ff25fda38",
   "metadata": {},
   "outputs": [
    {
     "data": {
      "text/plain": [
       "'Kocaeli'"
      ]
     },
     "execution_count": 243,
     "metadata": {},
     "output_type": "execute_result"
    }
   ],
   "source": [
    "dict.get('kütük').get('yaşadığı şehir')"
   ]
  },
  {
   "cell_type": "code",
   "execution_count": 251,
   "id": "6e9c89a6-0183-407d-b703-9db375cad0c7",
   "metadata": {},
   "outputs": [
    {
     "data": {
      "text/plain": [
       "dict_values(['ahmet', 'İKTUAV', {'doğduğu şehir': 'Trabzon', 'yaşadığı şehir': 'Kocaeli'}])"
      ]
     },
     "execution_count": 251,
     "metadata": {},
     "output_type": "execute_result"
    }
   ],
   "source": [
    "dict.values()"
   ]
  },
  {
   "cell_type": "code",
   "execution_count": 253,
   "id": "5b94f916-ca8b-4892-b695-a4398a18e5d0",
   "metadata": {},
   "outputs": [
    {
     "data": {
      "text/plain": [
       "dict_items([('adı', 'ahmet'), ('takımı ', 'İKTUAV'), ('kütük', {'doğduğu şehir': 'Trabzon', 'yaşadığı şehir': 'Kocaeli'})])"
      ]
     },
     "execution_count": 253,
     "metadata": {},
     "output_type": "execute_result"
    }
   ],
   "source": [
    "dict.items()"
   ]
  },
  {
   "cell_type": "code",
   "execution_count": 255,
   "id": "89abd7d7-fcba-49aa-b51f-f18d77f51cb1",
   "metadata": {},
   "outputs": [
    {
     "name": "stdout",
     "output_type": "stream",
     "text": [
      "1\n"
     ]
    }
   ],
   "source": [
    "print(5%4)"
   ]
  },
  {
   "cell_type": "code",
   "execution_count": 283,
   "id": "c34842ca-5a08-4de0-afd8-00368d945bce",
   "metadata": {},
   "outputs": [
    {
     "name": "stdout",
     "output_type": "stream",
     "text": [
      "şemsiyenı al\n"
     ]
    }
   ],
   "source": [
    "hava_durumu = \"yağışlı\"\n",
    "if hava_durumu == 'yağışlı' :\n",
    "    print(\"şemsiyenı al\")"
   ]
  },
  {
   "cell_type": "code",
   "execution_count": 289,
   "id": "ccfe280c-acdb-4f21-953e-39b30cbb4655",
   "metadata": {},
   "outputs": [
    {
     "name": "stdout",
     "output_type": "stream",
     "text": [
      "sorun yok\n"
     ]
    }
   ],
   "source": [
    "hava_durumu = \"güneşli\"\n",
    "if hava_durumu == 'yağışlı' :\n",
    "    print(\"şemsiyenı al\")\n",
    "else :\n",
    "    print(\"sorun yok\")"
   ]
  },
  {
   "cell_type": "code",
   "execution_count": 387,
   "id": "3c97846d-1094-462e-b317-19fd2dee626f",
   "metadata": {},
   "outputs": [
    {
     "name": "stdout",
     "output_type": "stream",
     "text": [
      " lastik zinciirini tak! \n"
     ]
    }
   ],
   "source": [
    "hava_durumu = \"karlı\"\n",
    "if hava_durumu == \"yağışlı\" :\n",
    "    print(\"şemsiyenı al\")\n",
    "elif hava_durumu == 'karlı' :\n",
    "    print(\" lastik zinciirini tak! \")\n",
    "else :\n",
    "    print(\"sorun yok\")"
   ]
  },
  {
   "cell_type": "code",
   "execution_count": 288,
   "id": "acf89ec9-5b4e-448b-a34d-06c5a311ecad",
   "metadata": {},
   "outputs": [
    {
     "name": "stdin",
     "output_type": "stream",
     "text": [
      "yaşınızı girin 66\n"
     ]
    },
    {
     "name": "stdout",
     "output_type": "stream",
     "text": [
      "sigara sağlığınıza zararlıdır devam etmek için 1 tuşuna basınız\n"
     ]
    },
    {
     "name": "stdin",
     "output_type": "stream",
     "text": [
      "secim 1\n"
     ]
    }
   ],
   "source": [
    "yaş= int (input(\"yaşınızı girin\"))\n",
    "if  yaş<18 :\n",
    "   print(\" sigara satın alımı yasaktır! \" )\n",
    "elif yaş>65 :\n",
    "    print(\"sigara sağlığınıza zararlıdır devam etmek için 1 tuşuna basınız\")\n",
    "    secim=int (input(\"secim\"))\n",
    "    if secim != 1 :\n",
    "        print(\"lütfen seçim yapınız\")\n",
    "else :\n",
    "    print(\"lütfen seçim yapınız2\")"
   ]
  },
  {
   "cell_type": "code",
   "execution_count": 366,
   "id": "0c9d9dcd-027e-4cc7-b8c2-f408a16073c6",
   "metadata": {},
   "outputs": [
    {
     "name": "stdout",
     "output_type": "stream",
     "text": [
      "buldum\n"
     ]
    }
   ],
   "source": [
    " liste=['a','b','c']\n",
    " hedef_harf= 'a'\n",
    "if hedef_harf in liste:\n",
    "    print('buldum')\n",
    "else:\n",
    "    liste.append(hedef_harf)\n",
    "    print('ilsteye ekledim')\n",
    "    print('güncel liste {}'.format(liste))\n"
   ]
  },
  {
   "cell_type": "code",
   "execution_count": 371,
   "id": "74621ab1-e9f0-4ef5-af43-3286faa24f1a",
   "metadata": {},
   "outputs": [
    {
     "name": "stdout",
     "output_type": "stream",
     "text": [
      "trablusgarp\n",
      "filistin\n"
     ]
    }
   ],
   "source": [
    "savasılan_cepheler=[\"trablusgarp\",\"filistin\"]\n",
    "for cephe in savasılan_cepheler :\n",
    "    print(cephe)"
   ]
  },
  {
   "cell_type": "code",
   "execution_count": 381,
   "id": "9dd9b508-bc2e-4d36-8a7a-93e9d59450a2",
   "metadata": {},
   "outputs": [
    {
     "name": "stdout",
     "output_type": "stream",
     "text": [
      "1 trablusgarp\n",
      "2 filistin\n"
     ]
    }
   ],
   "source": [
    "savasılan_cepheler=[\"trablusgarp\",\"filistin\"]\n",
    "cephe_sayısı=0\n",
    "for cephe in savasılan_cepheler :\n",
    "    cephe_sayısı=cephe_sayısı+ 1\n",
    "    print( cephe_sayısı,cephe)"
   ]
  },
  {
   "cell_type": "code",
   "execution_count": 10,
   "id": "0abda97a-fe37-4e20-a703-f5dde0784193",
   "metadata": {},
   "outputs": [
    {
     "name": "stdout",
     "output_type": "stream",
     "text": [
      "ahmet\n",
      "aygün\n"
     ]
    }
   ],
   "source": [
    "liste = [\" ahmet aygün \",\" mehmet vahser \",\" ali narsoy \",\" ayşe naneli \"]\n",
    "kullanıcı_sayısı=0\n",
    "for kullanıcı in liste :\n",
    "    \n",
    "    ad,soyad=liste[0].split()[0] , liste[0].split()[1]\n",
    "print(ad)\n",
    "print(soyad)"
   ]
  },
  {
   "cell_type": "code",
   "execution_count": 12,
   "id": "4ca43f05-6ff5-40ed-ad7e-0cb33aeaf4da",
   "metadata": {},
   "outputs": [
    {
     "name": "stdout",
     "output_type": "stream",
     "text": [
      "1.kullanıcının adı ahmet ve soyadı aygün.\n",
      "2.kullanıcının adı mehmet ve soyadı vahser.\n",
      "3.kullanıcının adı ali ve soyadı narsoy.\n",
      "4.kullanıcının adı ayşe ve soyadı naneli.\n"
     ]
    }
   ],
   "source": [
    "başkan=\"ahmet aygün\"\n",
    "başkan_sayısı=0\n",
    "kullanıcı_sayısı=0\n",
    "for kullanıcı in liste :\n",
    "    ad,soyad=kullanıcı.split()[0] , kullanıcı.split()[1]\n",
    "    \n",
    "    if(kullanıcı==başkan): \n",
    "      başkan_sayısı+= 1\n",
    "      print(\"{0}.başkanın adı {1} ve soyadı {2}.\" .format(kullanıcı_sayısı , ad, soyad))\n",
    "    else :\n",
    "        kullanıcı_sayısı+=1\n",
    "        print(\"{0}.kullanıcının adı {1} ve soyadı {2}.\" .format(kullanıcı_sayısı , ad, soyad))"
   ]
  },
  {
   "cell_type": "code",
   "execution_count": null,
   "id": "3758320a-c39a-4ac3-b2a9-e35b4137c8b7",
   "metadata": {},
   "outputs": [],
   "source": [
    "başkan = \"ahmet aygün\"\n",
    "başkan_sayısı = 0\n",
    "kullanıcı_sayısı = 0\n",
    "for kullanıcı in liste:\n",
    "    ad, soyad = kullanıcı.split()[0], kullanıcı.split()[1]\n",
    "    \n",
    "    if kullanıcı == başkan:\n",
    "        başkan_sayısı += 1\n",
    "        print(\"{0}.başkanın adı {1} ve soyadı {2}.\".format(kullanıcı_sayısı, ad, soyad))\n",
    "    else:\n",
    "        kullanıcı_sayısı += 1\n",
    "        print(\"{0}.kullanıcının adı {1} ve soyadı {2}.\".format(kullanıcı_sayısı, ad, soyad))\n"
   ]
  },
  {
   "cell_type": "code",
   "execution_count": 3,
   "id": "af03bfc3-1edd-4c82-8032-39fcf042c3a8",
   "metadata": {},
   "outputs": [
    {
     "name": "stdout",
     "output_type": "stream",
     "text": [
      "1\n",
      "2\n",
      "3\n",
      "4\n",
      "5\n",
      "7\n",
      "9\n",
      "11\n"
     ]
    }
   ],
   "source": [
    "tup1 = (1,2,3,4,5,7,9,11)\n",
    "for sayı  in tup1 :\n",
    "    print(sayı)"
   ]
  },
  {
   "cell_type": "code",
   "execution_count": 5,
   "id": "a62fba11-f8e8-44b3-9e87-fcb78135ea70",
   "metadata": {},
   "outputs": [
    {
     "name": "stdout",
     "output_type": "stream",
     "text": [
      "1 2 5 7\n",
      "3 4 6 8\n"
     ]
    }
   ],
   "source": [
    "liste= [[1,2,5,7],[3,4,6,8]]\n",
    "for x,y,z,t in liste:\n",
    "    print(x,y,z,t)"
   ]
  },
  {
   "cell_type": "code",
   "execution_count": 7,
   "id": "71db9131-95cd-455a-a652-43a95b7e116e",
   "metadata": {},
   "outputs": [
    {
     "name": "stdout",
     "output_type": "stream",
     "text": [
      "2 35\n",
      "12 48\n"
     ]
    }
   ],
   "source": [
    "liste= [[1,2,5,7],[3,4,6,8]]\n",
    "for x,y,z,t in liste:\n",
    "    print(x*y,z*t)"
   ]
  },
  {
   "cell_type": "code",
   "execution_count": 9,
   "id": "3fab9e6e-efea-4fdb-a6a7-7eaa73da918f",
   "metadata": {},
   "outputs": [
    {
     "data": {
      "text/plain": [
       "dict_items([('adı', 'şehmuz'), ('soyad', 'biricik ')])"
      ]
     },
     "execution_count": 9,
     "metadata": {},
     "output_type": "execute_result"
    }
   ],
   "source": [
    "kullanıcı1 ={\n",
    "    \"adı\": \"şehmuz\",\n",
    "    \"soyad\" :  \"biricik \"\n",
    "}\n",
    "kullanıcı1.items()"
   ]
  },
  {
   "cell_type": "code",
   "execution_count": 11,
   "id": "5889ba34-ded7-45fe-ab17-2f5c8e148a5d",
   "metadata": {},
   "outputs": [
    {
     "name": "stdout",
     "output_type": "stream",
     "text": [
      "key: adı\t value:şehmuz\n",
      "key: soyad\t value:biricik \n"
     ]
    }
   ],
   "source": [
    "for k,v in kullanıcı1.items():\n",
    "    print(\"key: {}\\t value:{}\".format(k,v))"
   ]
  },
  {
   "cell_type": "code",
   "execution_count": 46,
   "id": "5c727c47-741b-4c5b-b14d-b04ad3ef7dda",
   "metadata": {
    "scrolled": true
   },
   "outputs": [
    {
     "name": "stdout",
     "output_type": "stream",
     "text": [
      "0 değeri 10'dan küçüktür.\n",
      "1 değeri 10'dan küçüktür.\n",
      "2 değeri 10'dan küçüktür.\n",
      "3 değeri 10'dan küçüktür.\n",
      "4 değeri 10'dan küçüktür.\n",
      "5 değeri 10'dan küçüktür.\n",
      "6 değeri 10'dan küçüktür.\n",
      "7 değeri 10'dan küçüktür.\n",
      "8 değeri 10'dan küçüktür.\n",
      "9 değeri 10'dan küçüktür.\n",
      "10 değeri 10'dan küçük değil \n"
     ]
    }
   ],
   "source": [
    "x=0\n",
    "while x<10 :\n",
    "    print(\"{} değeri 10'dan küçüktür.\" .format(x))\n",
    "    x+=1\n",
    "else :  \n",
    "    print(\"{} değeri 10'dan küçük değil \".format(x))\n",
    "    "
   ]
  },
  {
   "cell_type": "code",
   "execution_count": 59,
   "id": "113022d2-4765-42be-ba10-814569299dce",
   "metadata": {},
   "outputs": [
    {
     "name": "stdout",
     "output_type": "stream",
     "text": [
      "720\n"
     ]
    }
   ],
   "source": [
    "sayı=6\n",
    "sonuc=1\n",
    "while sayı> 0 :\n",
    "    sonuc = sonuc * sayı\n",
    "    sayı -= 1\n",
    "print(sonuc)"
   ]
  },
  {
   "cell_type": "code",
   "execution_count": 67,
   "id": "4aafb3ff-42e9-4756-86ae-466ee64a50fa",
   "metadata": {},
   "outputs": [
    {
     "data": {
      "text/plain": [
       "range(0, 100)"
      ]
     },
     "execution_count": 67,
     "metadata": {},
     "output_type": "execute_result"
    }
   ],
   "source": [
    "range()"
   ]
  },
  {
   "cell_type": "code",
   "execution_count": 69,
   "id": "977e8390-6e35-4e0f-a1f2-db75862bc728",
   "metadata": {},
   "outputs": [
    {
     "data": {
      "text/plain": [
       "[0, 1, 2, 3, 4, 5, 6, 7, 8, 9]"
      ]
     },
     "execution_count": 69,
     "metadata": {},
     "output_type": "execute_result"
    }
   ],
   "source": [
    "list(range(10))"
   ]
  },
  {
   "cell_type": "code",
   "execution_count": 73,
   "id": "6866027e-aa08-47a8-8937-35cd7de9b649",
   "metadata": {},
   "outputs": [
    {
     "data": {
      "text/plain": [
       "[1, 3]"
      ]
     },
     "execution_count": 73,
     "metadata": {},
     "output_type": "execute_result"
    }
   ],
   "source": [
    "[*range(1,5,2)]"
   ]
  },
  {
   "cell_type": "code",
   "execution_count": 83,
   "id": "10660700-9872-489d-8904-c2d7a357539a",
   "metadata": {},
   "outputs": [
    {
     "name": "stdout",
     "output_type": "stream",
     "text": [
      "6\n",
      "7\n",
      "8\n",
      "9\n"
     ]
    }
   ],
   "source": [
    "for sayı in range(10):\n",
    "    if sayı>5 :\n",
    "      print(sayı)"
   ]
  },
  {
   "cell_type": "code",
   "execution_count": 89,
   "id": "15cdd341-b104-464e-82c4-0f590b5190df",
   "metadata": {},
   "outputs": [
    {
     "name": "stdout",
     "output_type": "stream",
     "text": [
      "(0, 'a')\n",
      "(1, 'b')\n",
      "(2, 'c')\n",
      "(3, 'd')\n",
      "(4, 'e')\n"
     ]
    }
   ],
   "source": [
    "harfler=['a','b','c','d','e']\n",
    "for harf in enumerate(harfler) :\n",
    "    print(harf)"
   ]
  },
  {
   "cell_type": "code",
   "execution_count": 141,
   "id": "79ac711c-85ed-475f-99a2-73cacc58a74b",
   "metadata": {},
   "outputs": [
    {
     "name": "stdout",
     "output_type": "stream",
     "text": [
      "1. harf: a.\n",
      "2. harf: b.\n",
      "3. harf: c.\n",
      "4. harf: d.\n",
      "5. harf: e.\n"
     ]
    }
   ],
   "source": [
    "harfler=['a','b','c','d','e']\n",
    "for index, harf in enumerate(harfler) :\n",
    "    print(\"{}. harf: {}.\" .format(index+1,harf))\n",
    "\n",
    "\n",
    "\n"
   ]
  },
  {
   "cell_type": "code",
   "execution_count": 131,
   "id": "e163fb52-a121-46c9-aa8e-0b3aa64663cd",
   "metadata": {},
   "outputs": [
    {
     "name": "stdout",
     "output_type": "stream",
     "text": [
      "('TR', 1)\n",
      "('FR', 2)\n",
      "('DE', 3)\n"
     ]
    }
   ],
   "source": [
    "ülkeler=(\"TR\",\"FR\",\"DE\")\n",
    "sıralamalar=range(1,4)\n",
    "for ülkeler in zip(ülkeler,sıralamalar):\n",
    "       print(ülkeler)"
   ]
  },
  {
   "cell_type": "code",
   "execution_count": 155,
   "id": "fc84ef0c-814d-4f13-a5c7-e4a8d5e66b82",
   "metadata": {},
   "outputs": [
    {
     "name": "stdout",
     "output_type": "stream",
     "text": [
      "c harfi 2. indexte!\n"
     ]
    }
   ],
   "source": [
    "harfler=['a','b','c','d','e'] *100\n",
    "for index, harf in enumerate(harfler):\n",
    "    if harf== 'c' :\n",
    "        print(\"{} harfi {}. indexte!\" .format(harf, index))\n",
    "        break\n",
    "        \n",
    "        \n",
    "    "
   ]
  },
  {
   "cell_type": "code",
   "execution_count": 159,
   "id": "1d0accd2-3326-48ca-8ead-a876b2c40cf3",
   "metadata": {},
   "outputs": [
    {
     "name": "stdout",
     "output_type": "stream",
     "text": [
      "1\n",
      "3\n",
      "5\n"
     ]
    }
   ],
   "source": [
    " for sayı in range(1,6):\n",
    "     if sayı%2==0 :\n",
    "         continue\n",
    "     print (sayı)"
   ]
  },
  {
   "cell_type": "code",
   "execution_count": 167,
   "id": "98734f3c-d298-4bb3-ad97-b134b096f7f7",
   "metadata": {},
   "outputs": [],
   "source": [
    "def büyük_sayi_döndür(a,b):\n",
    "    if a>b :\n",
    "        return a\n",
    "    elif b>a :\n",
    "        return b"
   ]
  },
  {
   "cell_type": "code",
   "execution_count": 175,
   "id": "194bcdd7-5b55-4d3f-8356-9ecbbd5e4610",
   "metadata": {},
   "outputs": [
    {
     "data": {
      "text/plain": [
       "8"
      ]
     },
     "execution_count": 175,
     "metadata": {},
     "output_type": "execute_result"
    }
   ],
   "source": [
    "büyük_sayi_döndür(2,8)"
   ]
  },
  {
   "cell_type": "code",
   "execution_count": 197,
   "id": "6353b674-4611-4788-a562-e59696201ae8",
   "metadata": {},
   "outputs": [],
   "source": [
    "def metin_yazdır (a,b):\n",
    "    büyük_sayı= büyük_sayi_döndür(a,b)\n",
    "    sablon_metin= \"{} daha büyük sayıdır\".format(büyük_sayı)\n",
    "    return(sablon_metin)"
   ]
  },
  {
   "cell_type": "code",
   "execution_count": 199,
   "id": "5ac109a3-3401-49e8-b36c-eed3a6dad88b",
   "metadata": {},
   "outputs": [
    {
     "data": {
      "text/plain": [
       "'8 daha büyük sayıdır'"
      ]
     },
     "execution_count": 199,
     "metadata": {},
     "output_type": "execute_result"
    }
   ],
   "source": [
    "metin_yazdır(2,8)\n",
    "\n",
    "\n"
   ]
  },
  {
   "cell_type": "code",
   "execution_count": 201,
   "id": "bcd43bd5-5891-4314-8674-a46c737f1a9b",
   "metadata": {},
   "outputs": [
    {
     "data": {
      "text/plain": [
       "'ahmet - aygün'"
      ]
     },
     "execution_count": 201,
     "metadata": {},
     "output_type": "execute_result"
    }
   ],
   "source": [
    "\" - \" .join ([\"ahmet\",\"aygün\"])\n"
   ]
  },
  {
   "cell_type": "code",
   "execution_count": 207,
   "id": "d88588d8-097d-4b2a-aac2-6c8383b864aa",
   "metadata": {},
   "outputs": [],
   "source": [
    "def isim_soyisim_birleştir(isim,soyisim) :\n",
    "    return \" & \" .join([isim, soyisim])"
   ]
  },
  {
   "cell_type": "code",
   "execution_count": 211,
   "id": "7aba9250-6b90-4ad3-8a33-9923468dca3b",
   "metadata": {},
   "outputs": [
    {
     "data": {
      "text/plain": [
       "'kalem & defter'"
      ]
     },
     "execution_count": 211,
     "metadata": {},
     "output_type": "execute_result"
    }
   ],
   "source": [
    "isim_soyisim_birleştir(\"kalem\",\"defter\")"
   ]
  },
  {
   "cell_type": "code",
   "execution_count": 213,
   "id": "7a9c33f1-cc12-42b3-b4f1-780c1b06a23e",
   "metadata": {},
   "outputs": [],
   "source": [
    "def isim_soyisim_birleştir(*args) :\n",
    "    return \" & \" .join([*args])"
   ]
  },
  {
   "cell_type": "code",
   "execution_count": 217,
   "id": "f316d7d7-42cf-4932-8a05-9a8c0ebc2514",
   "metadata": {},
   "outputs": [
    {
     "data": {
      "text/plain": [
       "'kalem & defter & silgi'"
      ]
     },
     "execution_count": 217,
     "metadata": {},
     "output_type": "execute_result"
    }
   ],
   "source": [
    "isim_soyisim_birleştir(\"kalem\",\"defter\",\"silgi\")"
   ]
  },
  {
   "cell_type": "code",
   "execution_count": 231,
   "id": "ef520afb-7262-4141-b723-d52f56a18217",
   "metadata": {},
   "outputs": [],
   "source": [
    "def karesini_al(x):\n",
    "    return x**2"
   ]
  },
  {
   "cell_type": "code",
   "execution_count": 237,
   "id": "1128d719-e9a6-4f15-b6cb-78d200d14da8",
   "metadata": {},
   "outputs": [
    {
     "data": {
      "text/plain": [
       "144"
      ]
     },
     "execution_count": 237,
     "metadata": {},
     "output_type": "execute_result"
    }
   ],
   "source": [
    "karesini_al(12)"
   ]
  },
  {
   "cell_type": "code",
   "execution_count": 245,
   "id": "97eae7bf-0bee-4b8d-be38-8bf8127deaf9",
   "metadata": {},
   "outputs": [
    {
     "name": "stdout",
     "output_type": "stream",
     "text": [
      "[1, 2, 3, 4, 5]\n",
      "[1, 4, 9, 16, 25]\n"
     ]
    }
   ],
   "source": [
    "sayılar =[*range(1,6)]\n",
    "print(sayılar)\n",
    "for index in range(len(sayılar)) :\n",
    "    sayılar[index] = karesini_al(sayılar[index])\n",
    "print(sayılar)"
   ]
  },
  {
   "cell_type": "code",
   "execution_count": 251,
   "id": "4f6fecd9-4119-4236-8407-e0e9b5137aef",
   "metadata": {},
   "outputs": [
    {
     "data": {
      "text/plain": [
       "[1, 4, 9, 16, 25]"
      ]
     },
     "execution_count": 251,
     "metadata": {},
     "output_type": "execute_result"
    }
   ],
   "source": [
    "sayılar=[*range(1,6)]\n",
    "[*map(karesini_al, sayılar )]"
   ]
  },
  {
   "cell_type": "code",
   "execution_count": 270,
   "id": "54e6fd5a-e765-48ee-927c-9cdc12c6d324",
   "metadata": {},
   "outputs": [],
   "source": [
    "def çift_sayıları_filtrele(x):\n",
    "    return x if x%2==0 else None"
   ]
  },
  {
   "cell_type": "code",
   "execution_count": 272,
   "id": "255b1dee-57a8-4dfd-b422-028b658ce604",
   "metadata": {},
   "outputs": [
    {
     "data": {
      "text/plain": [
       "[2, 4]"
      ]
     },
     "execution_count": 272,
     "metadata": {},
     "output_type": "execute_result"
    }
   ],
   "source": [
    "sayılar =[*range(1,6)]\n",
    "[*filter(çift_sayıları_filtrele,sayılar)]"
   ]
  },
  {
   "cell_type": "code",
   "execution_count": 274,
   "id": "dbd0e9c0-ff48-4122-be6d-822b6027e71b",
   "metadata": {},
   "outputs": [
    {
     "data": {
      "text/plain": [
       "[1, 4, 9, 16, 25]"
      ]
     },
     "execution_count": 274,
     "metadata": {},
     "output_type": "execute_result"
    }
   ],
   "source": [
    "sayılar =[*range(1,6)]\n",
    "[*map(lambda sayı: sayı**2,sayılar )]"
   ]
  },
  {
   "cell_type": "code",
   "execution_count": 278,
   "id": "14bc2fdd-e259-4c84-8eb2-130555032858",
   "metadata": {},
   "outputs": [
    {
     "data": {
      "text/plain": [
       "[2, 4]"
      ]
     },
     "execution_count": 278,
     "metadata": {},
     "output_type": "execute_result"
    }
   ],
   "source": [
    "sayılar =[*range(1,6)]\n",
    "[*filter(lambda x: x if x%2==0 else None, sayılar)]"
   ]
  },
  {
   "cell_type": "code",
   "execution_count": 296,
   "id": "b8504f29-642e-4368-a9a0-ad005aa4299d",
   "metadata": {},
   "outputs": [
    {
     "name": "stdin",
     "output_type": "stream",
     "text": [
      "bir sayı giriniz : 61\n"
     ]
    },
    {
     "data": {
      "text/plain": [
       "int"
      ]
     },
     "execution_count": 296,
     "metadata": {},
     "output_type": "execute_result"
    }
   ],
   "source": [
    "girdi=input(\"bir sayı giriniz :\")\n",
    "type(int(girdi))"
   ]
  },
  {
   "cell_type": "code",
   "execution_count": 322,
   "id": "40d09621-bdfb-43b3-8840-84e443fa10ff",
   "metadata": {},
   "outputs": [],
   "source": [
    "def sayılar_hesap_makinası():\n",
    "    girdi = input(\"bir sayı giriniz:\")\n",
    "    işlem = input(\"tek mi çift mi sorgula:\")\n",
    "\n",
    "    if işlem == \"çift\" :\n",
    "        if int(girdi)%2==0 :\n",
    "            return(\"evet {} sayısı çift sayıdır \".format(girdi))\n",
    "        else:\n",
    "            return(\"hayır {} sayısı çift sayı değildir\" .format(girdi))       \n",
    "    elif işlem == \"tek\" :\n",
    "          if int(girdi)%2==1 :\n",
    "           return(\"evet {} sayısı tek sayıdır\".format(girdi))\n",
    "          else:\n",
    "            return(\"hayır {} sayısı tek sayı değildir\" .format(girdi))\n",
    "    "
   ]
  },
  {
   "cell_type": "code",
   "execution_count": 324,
   "id": "6549a60d-d173-4f80-86b2-3dae5a22d1f6",
   "metadata": {},
   "outputs": [
    {
     "name": "stdin",
     "output_type": "stream",
     "text": [
      "bir sayı giriniz: 12\n",
      "tek mi çift mi sorgula: tek\n"
     ]
    },
    {
     "data": {
      "text/plain": [
       "'hayır 12 sayısı tek sayı değildir'"
      ]
     },
     "execution_count": 324,
     "metadata": {},
     "output_type": "execute_result"
    }
   ],
   "source": [
    "sayılar_hesap_makinası()\n"
   ]
  },
  {
   "cell_type": "code",
   "execution_count": 326,
   "id": "dcab6764-b8fc-4cfb-966c-5628ae010e3a",
   "metadata": {},
   "outputs": [],
   "source": [
    "def sayı_girdisi_kontrol():\n",
    "    girdi=input(\"bir sayı giriniz\")\n",
    "    if girdi.isdigit():\n",
    "        print(\"sayı değeri\")\n",
    "    else:\n",
    "        print(\"sayı değeri değil\")"
   ]
  },
  {
   "cell_type": "code",
   "execution_count": 330,
   "id": "db8ecb62-030b-40b1-9b7a-175f172352d3",
   "metadata": {},
   "outputs": [
    {
     "name": "stdin",
     "output_type": "stream",
     "text": [
      "bir sayı giriniz 1144109120\n"
     ]
    },
    {
     "name": "stdout",
     "output_type": "stream",
     "text": [
      "sayı değeri\n"
     ]
    }
   ],
   "source": [
    "sayı_girdisi_kontrol()"
   ]
  },
  {
   "cell_type": "code",
   "execution_count": 341,
   "id": "456061ad-4b2d-4b85-9e5f-c7114b32a1ac",
   "metadata": {},
   "outputs": [],
   "source": [
    "def sayı_döngü():\n",
    "    girdi=input(\"bir sayı giriniz\")\n",
    "\n",
    "    while not girdi.isdigit():\n",
    "        print(\"sayı değildir\")\n",
    "        girdi=input(\"saayı gir\")\n",
    "\n",
    "    else:\n",
    "        print(\"sayıdır.\")\n",
    "    "
   ]
  },
  {
   "cell_type": "code",
   "execution_count": 345,
   "id": "c0f8c2e9-85ca-44d4-9db9-062cfd41854a",
   "metadata": {},
   "outputs": [
    {
     "name": "stdin",
     "output_type": "stream",
     "text": [
      "bir sayı giriniz aaa\n"
     ]
    },
    {
     "name": "stdout",
     "output_type": "stream",
     "text": [
      "sayı değildir\n"
     ]
    },
    {
     "name": "stdin",
     "output_type": "stream",
     "text": [
      "saayı gir 2\n"
     ]
    },
    {
     "name": "stdout",
     "output_type": "stream",
     "text": [
      "sayıdır.\n"
     ]
    }
   ],
   "source": [
    "sayı_döngü()"
   ]
  },
  {
   "cell_type": "code",
   "execution_count": 16,
   "id": "5dc74184-206e-4af0-a539-e39dd6bc971c",
   "metadata": {},
   "outputs": [],
   "source": [
    "def eposta_kontrol():\n",
    "    girdi= input(\"geçerli bir eposta adresi giriniz\")\n",
    "    \n",
    "    while not ((\".\" in girdi) and (\"@\" in girdi )):\n",
    "        print(\"geçerli eposta değil!\")\n",
    "        girdi= input(\"geçerli bir eposta adresi giriniz\")\n",
    "\n",
    "    else:\n",
    "       print(\"hoşgeldiniz\")"
   ]
  },
  {
   "cell_type": "code",
   "execution_count": 18,
   "id": "2a5b8856-2757-412d-b926-2ad96b2413aa",
   "metadata": {},
   "outputs": [
    {
     "name": "stdin",
     "output_type": "stream",
     "text": [
      "geçerli bir eposta adresi giriniz ahmedaygun1@gmail.com\n"
     ]
    },
    {
     "name": "stdout",
     "output_type": "stream",
     "text": [
      "hoşgeldiniz\n"
     ]
    }
   ],
   "source": [
    "eposta_kontrol()"
   ]
  },
  {
   "cell_type": "code",
   "execution_count": 20,
   "id": "4a224346-4f77-4cee-9658-8d56a7fd39ad",
   "metadata": {},
   "outputs": [],
   "source": [
    "def eposta_kontrol():\n",
    "    girdi= input(\"geçerli bir eposta adresi giriniz\")\n",
    "    \n",
    "    while  ((\".\" in girdi) and (\"@\" in girdi )):\n",
    "        print(\"geçerli eposta !\")\n",
    "        girdi= input(\"geçerli bir eposta adresi giriniz\")\n",
    "\n",
    "    else:\n",
    "       print(\"geçersiz\")\n",
    "\n"
   ]
  },
  {
   "cell_type": "code",
   "execution_count": 22,
   "id": "2cd1fdd3-a1f2-40d2-9695-f9c374294ee0",
   "metadata": {},
   "outputs": [
    {
     "name": "stdin",
     "output_type": "stream",
     "text": [
      "geçerli bir eposta adresi giriniz ahmedaygun1@gmail.com\n"
     ]
    },
    {
     "name": "stdout",
     "output_type": "stream",
     "text": [
      "geçerli eposta !\n"
     ]
    },
    {
     "name": "stdin",
     "output_type": "stream",
     "text": [
      "geçerli bir eposta adresi giriniz aaaaa\n"
     ]
    },
    {
     "name": "stdout",
     "output_type": "stream",
     "text": [
      "geçersiz\n"
     ]
    }
   ],
   "source": [
    "eposta_kontrol()"
   ]
  },
  {
   "cell_type": "code",
   "execution_count": 24,
   "id": "7ff0e581-1cf2-465d-a826-f521d239555c",
   "metadata": {},
   "outputs": [
    {
     "data": {
      "text/plain": [
       "2"
      ]
     },
     "execution_count": 24,
     "metadata": {},
     "output_type": "execute_result"
    }
   ],
   "source": [
    "round(1.8)"
   ]
  },
  {
   "cell_type": "code",
   "execution_count": 26,
   "id": "c111dbca-222e-4f2a-9a75-6db8bc5ef30a",
   "metadata": {},
   "outputs": [],
   "source": [
    "def tam_sayı_cevirme():\n",
    "    girdi=input(\"ondalık sayıyı giriniz\")\n",
    "    print(\"yuvarlama işlemi sonucu {}\".format(round(float(girdi))))"
   ]
  },
  {
   "cell_type": "code",
   "execution_count": 32,
   "id": "02f9c050-af7e-4298-bbc9-db475d1761ce",
   "metadata": {},
   "outputs": [
    {
     "name": "stdin",
     "output_type": "stream",
     "text": [
      "ondalık sayıyı giriniz 1.7\n"
     ]
    },
    {
     "name": "stdout",
     "output_type": "stream",
     "text": [
      "yuvarlama işlemi sonucu 2\n"
     ]
    }
   ],
   "source": [
    "tam_sayı_cevirme()\n"
   ]
  },
  {
   "cell_type": "code",
   "execution_count": 68,
   "id": "dbb3c0e1-f865-4cfa-bc09-94ac9f0dd7f6",
   "metadata": {
    "scrolled": true
   },
   "outputs": [],
   "source": [
    "def tam_sayı_dönüştur():\n",
    "    girdi=input(\"ondalık sayıyı giriniz\")\n",
    "\n",
    "    try:\n",
    "       girdi = float(girdi)\n",
    "       print(\"yuvarlama işlemi sonucu: {} \".format(round(girdi)))\n",
    "       status= \"başarılı\"\n",
    "    except:\n",
    "       print(\"{} girdisi ondalık tipe çevrilmiyor\".format(girdi))\n",
    "       status=\"başarısız\"\n",
    "    finally:\n",
    "        print(\"tam sayıya çevirme işlemi {} olarak tanımlandı\".format(status))\n",
    "       "
   ]
  },
  {
   "cell_type": "code",
   "execution_count": 70,
   "id": "bd4adf79-1af7-46c6-a0c2-0d3a68b08bc1",
   "metadata": {},
   "outputs": [
    {
     "name": "stdin",
     "output_type": "stream",
     "text": [
      "ondalık sayıyı giriniz aa\n"
     ]
    },
    {
     "name": "stdout",
     "output_type": "stream",
     "text": [
      "aa girdisi ondalık tipe çevrilmiyor\n",
      "tam sayıya çevirme işlemi başarısız olarak tanımlandı\n"
     ]
    }
   ],
   "source": [
    "tam_sayı_dönüştur()"
   ]
  },
  {
   "cell_type": "code",
   "execution_count": 347,
   "id": "77cd9f17-6b9f-4089-a61e-e4c0257be5d9",
   "metadata": {},
   "outputs": [
    {
     "ename": "SyntaxError",
     "evalue": "'break' outside loop (468951412.py, line 9)",
     "output_type": "error",
     "traceback": [
      "\u001b[1;36m  Cell \u001b[1;32mIn[347], line 9\u001b[1;36m\u001b[0m\n\u001b[1;33m    break\u001b[0m\n\u001b[1;37m    ^\u001b[0m\n\u001b[1;31mSyntaxError\u001b[0m\u001b[1;31m:\u001b[0m 'break' outside loop\n"
     ]
    }
   ],
   "source": [
    "def tam_sayı_dönüştur():\n",
    "    \n",
    "    while True:\n",
    "        girdi=input(\"ondalık sayıyı giriniz\")  \n",
    "\n",
    "    try:\n",
    "       girdi = float(girdi)\n",
    "       print(\"yuvarlama işlemi sonucu: {} \".format(round(girdi)))\n",
    "       break    \n",
    "    except valueError:\n",
    "       print(\"{} girdisi ondalık tipe çevrilmiyor\".format(girdi))\n",
    "       "
   ]
  },
  {
   "cell_type": "code",
   "execution_count": 130,
   "id": "16c89a69-2992-4c51-9850-20e52efda549",
   "metadata": {},
   "outputs": [],
   "source": [
    "def tam_sayı_dönüştür():\n",
    "    while True:\n",
    "        girdi = input(\"Ondalık sayıyı giriniz: \")\n",
    "\n",
    "        try:\n",
    "            girdi = float(girdi)  # Girdi ondalık sayıya dönüştürülmeye çalışılır\n",
    "            print(\"Yuvarlama işlemi sonucu: {}\".format(round(girdi)))  # Yuvarlanmış değeri yazdır\n",
    "            break  # Döngüyü kırmak için break kullanılır\n",
    "        except ValueError:\n",
    "            print(\"{} girdisi ondalık tipe çevrilemiyor.\".format(girdi))  # Hata mesajı\n"
   ]
  },
  {
   "cell_type": "code",
   "execution_count": 132,
   "id": "2a562ce6-a06b-43d2-8266-2bf431fbdf69",
   "metadata": {},
   "outputs": [
    {
     "name": "stdin",
     "output_type": "stream",
     "text": [
      "Ondalık sayıyı giriniz:  aaa\n"
     ]
    },
    {
     "name": "stdout",
     "output_type": "stream",
     "text": [
      "aaa girdisi ondalık tipe çevrilemiyor.\n"
     ]
    },
    {
     "name": "stdin",
     "output_type": "stream",
     "text": [
      "Ondalık sayıyı giriniz:  11.5\n"
     ]
    },
    {
     "name": "stdout",
     "output_type": "stream",
     "text": [
      "Yuvarlama işlemi sonucu: 12\n"
     ]
    }
   ],
   "source": [
    "tam_sayı_dönüştür()"
   ]
  },
  {
   "cell_type": "code",
   "execution_count": null,
   "id": "bedf8df5-e802-4410-8082-142f259d9cc6",
   "metadata": {},
   "outputs": [],
   "source": [
    "\n",
    "    "
   ]
  },
  {
   "cell_type": "code",
   "execution_count": 277,
   "id": "c734cf96-02b8-4ccf-a8c2-41caef7d66d6",
   "metadata": {},
   "outputs": [],
   "source": [
    "class ucus():\n",
    "    havayolu = \"ajet\"\n",
    "\n",
    "    def __init__ (self, kalkış, iniş, sure, kodu, bussines, ekonomi):\n",
    "        self.kalkış=kalkış\n",
    "        self.iniş=iniş\n",
    "        self.sure=sure\n",
    "        self.kodu=kodu\n",
    "        self.bussines=bussines\n",
    "        self.ekonomi=ekonomi\n",
    "    def anons_yap(self):\n",
    "        return(\"{}  sefer sayılı {}-{} uçuşumuz {} dakika surecektir\".format(\n",
    "         self.kodu,\n",
    "         self.kalkış,\n",
    "         self.iniş,\n",
    "         self.sure))"
   ]
  },
  {
   "cell_type": "code",
   "execution_count": 279,
   "id": "1d75d3f8-2d6c-401f-becc-99d7f31bff61",
   "metadata": {},
   "outputs": [],
   "source": [
    "ucus1=ucus(\"SAW\",\"EZS\",\"90\",\"TK2121\",\"15\",\"85\")\n"
   ]
  },
  {
   "cell_type": "code",
   "execution_count": 281,
   "id": "2ade04b2-bb15-4a25-88df-a69933a0e378",
   "metadata": {},
   "outputs": [
    {
     "data": {
      "text/plain": [
       "'SAW'"
      ]
     },
     "execution_count": 281,
     "metadata": {},
     "output_type": "execute_result"
    }
   ],
   "source": [
    "ucus1.kalkış"
   ]
  },
  {
   "cell_type": "code",
   "execution_count": 283,
   "id": "3bf07dfd-b86f-493a-817e-bc49f68790ac",
   "metadata": {},
   "outputs": [
    {
     "data": {
      "text/plain": [
       "'TK2121'"
      ]
     },
     "execution_count": 283,
     "metadata": {},
     "output_type": "execute_result"
    }
   ],
   "source": [
    "ucus1.kodu"
   ]
  },
  {
   "cell_type": "code",
   "execution_count": 285,
   "id": "537aa1e5-ddbd-452b-92c3-519f6de3f642",
   "metadata": {},
   "outputs": [
    {
     "data": {
      "text/plain": [
       "'ajet'"
      ]
     },
     "execution_count": 285,
     "metadata": {},
     "output_type": "execute_result"
    }
   ],
   "source": [
    "ucus1.havayolu"
   ]
  },
  {
   "cell_type": "code",
   "execution_count": 287,
   "id": "a0592df3-f184-48e5-8c9c-ac0952be155a",
   "metadata": {},
   "outputs": [],
   "source": [
    "ucus3=ucus(\"SAW\",\"EZS\",\"90\",\"TK2121\",\"15\",\"85\")\n"
   ]
  },
  {
   "cell_type": "code",
   "execution_count": 289,
   "id": "cc8f1008-29ed-4725-bcc0-c29f85e62ab3",
   "metadata": {},
   "outputs": [
    {
     "data": {
      "text/plain": [
       "'TK2121  sefer sayılı SAW-EZS uçuşumuz 90 dakika surecektir'"
      ]
     },
     "execution_count": 289,
     "metadata": {},
     "output_type": "execute_result"
    }
   ],
   "source": [
    "ucus3.anons_yap()"
   ]
  },
  {
   "cell_type": "code",
   "execution_count": 337,
   "id": "0908fcb3-c52a-4b4c-ada2-61f4d3e023a7",
   "metadata": {},
   "outputs": [],
   "source": [
    "class ucus():\n",
    "    havayolu = \"ajet\"\n",
    "\n",
    "    def __init__ (self, kalkış, iniş, sure, kodu, bussines, ekonomi):\n",
    "        self.kalkış=kalkış\n",
    "        self.iniş=iniş\n",
    "        self.sure=sure\n",
    "        self.kodu=kodu\n",
    "        self.bussines=bussines\n",
    "        self.ekonomi=ekonomi\n",
    "    def anons_yap(self):\n",
    "        return(\"{}  sefer sayılı {}-{} uçuşumuz {} dakika surecektir\".format(\n",
    "         self.kodu,\n",
    "         self.kalkış,\n",
    "         self.iniş,\n",
    "         self.sure))\n",
    "    def koltuk_güncelleme(self) :\n",
    "        return self.ekonomi - self.bussines\n",
    "    def bilet_satış(self):\n",
    "        "
   ]
  },
  {
   "cell_type": "code",
   "execution_count": 343,
   "id": "8ddeb5bf-d24c-4301-a799-77fd8602a04a",
   "metadata": {},
   "outputs": [],
   "source": [
    "ucus3 = ucus(\"SAW\",\"EZS\",\"90\",\"TK2121\",15,85)"
   ]
  },
  {
   "cell_type": "code",
   "execution_count": 345,
   "id": "01d5a792-13ee-4a06-a02d-d8781fc3d9b6",
   "metadata": {},
   "outputs": [
    {
     "data": {
      "text/plain": [
       "70"
      ]
     },
     "execution_count": 345,
     "metadata": {},
     "output_type": "execute_result"
    }
   ],
   "source": [
    "ucus3.koltuk_güncelleme()"
   ]
  },
  {
   "cell_type": "code",
   "execution_count": 351,
   "id": "3cd08258-9833-43ea-afce-d6eab2fd803e",
   "metadata": {},
   "outputs": [
    {
     "data": {
      "text/plain": [
       "['kalkış',\n",
       " 'iniş',\n",
       " 'sure',\n",
       " 'kodu',\n",
       " 'bussines',\n",
       " 'ekonomi',\n",
       " '__module__',\n",
       " 'havayolu',\n",
       " '__init__',\n",
       " 'anons_yap',\n",
       " 'koltuk_güncelleme',\n",
       " '__dict__',\n",
       " '__weakref__',\n",
       " '__doc__',\n",
       " '__new__',\n",
       " '__repr__',\n",
       " '__hash__',\n",
       " '__str__',\n",
       " '__getattribute__',\n",
       " '__setattr__',\n",
       " '__delattr__',\n",
       " '__lt__',\n",
       " '__le__',\n",
       " '__eq__',\n",
       " '__ne__',\n",
       " '__gt__',\n",
       " '__ge__',\n",
       " '__reduce_ex__',\n",
       " '__reduce__',\n",
       " '__getstate__',\n",
       " '__subclasshook__',\n",
       " '__init_subclass__',\n",
       " '__format__',\n",
       " '__sizeof__',\n",
       " '__dir__',\n",
       " '__class__']"
      ]
     },
     "execution_count": 351,
     "metadata": {},
     "output_type": "execute_result"
    }
   ],
   "source": [
    "ucus3.__dir__()"
   ]
  },
  {
   "cell_type": "code",
   "execution_count": 363,
   "id": "32d48c20-17d7-40ac-9dd5-64595d37fa56",
   "metadata": {},
   "outputs": [],
   "source": [
    "class ucus():\n",
    "    havayolu = \"ajet\"\n",
    "\n",
    "    def __init__ (self, kalkış, iniş, sure, kodu, bussines, ekonomi):\n",
    "        self.kalkış=kalkış\n",
    "        self.iniş=iniş\n",
    "        self.sure=sure\n",
    "        self.kodu=kodu\n",
    "        self.bussines=bussines\n",
    "        self.ekonomi=ekonomi\n",
    "\n",
    "    def __repr__(self):\n",
    "        return(\"{} sefer sayılı ucus, sistemde oluşturulmuştur..\" .format(self.kodu))\n",
    "    def anons_yap(self):\n",
    "        return(\"{}  sefer sayılı {}-{} uçuşumuz {} dakika surecektir\".format(\n",
    "         self.kodu,\n",
    "         self.kalkış,\n",
    "         self.iniş,\n",
    "         self.sure))\n",
    "    def koltuk_güncelleme(self) :\n",
    "        return self.ekonomi - self.bussines"
   ]
  },
  {
   "cell_type": "code",
   "execution_count": 365,
   "id": "4327d4da-8ea7-4e8b-8440-7de68f3edcdb",
   "metadata": {},
   "outputs": [],
   "source": [
    "ucus3 = ucus(\"SAW\",\"EZS\",\"90\",\"TK2121\",15,85)"
   ]
  },
  {
   "cell_type": "code",
   "execution_count": 367,
   "id": "e5f37ceb-e6c4-4ba1-b675-0b13002e8957",
   "metadata": {},
   "outputs": [
    {
     "data": {
      "text/plain": [
       "TK2121 sefer sayılı ucus, sistemde oluşturulmuştur.."
      ]
     },
     "execution_count": 367,
     "metadata": {},
     "output_type": "execute_result"
    }
   ],
   "source": [
    "ucus3"
   ]
  },
  {
   "cell_type": "code",
   "execution_count": 369,
   "id": "b09ab002-014b-486e-8a31-d09255d19c18",
   "metadata": {},
   "outputs": [
    {
     "data": {
      "text/plain": [
       "'C:\\\\Users\\\\ahmed'"
      ]
     },
     "execution_count": 369,
     "metadata": {},
     "output_type": "execute_result"
    }
   ],
   "source": [
    "%pwd"
   ]
  },
  {
   "cell_type": "code",
   "execution_count": 373,
   "id": "60adc687-1bd6-4d2b-b0e1-999d0ca4be8e",
   "metadata": {},
   "outputs": [
    {
     "data": {
      "text/plain": [
       "['.anaconda',\n",
       " '.conda',\n",
       " '.condarc',\n",
       " '.continuum',\n",
       " '.ipynb_checkpoints',\n",
       " '.ipython',\n",
       " '.jupyter',\n",
       " '.vscode',\n",
       " 'anaconda3',\n",
       " 'ansel',\n",
       " 'AppData',\n",
       " 'Application Data',\n",
       " 'Belgelerim',\n",
       " 'Contacts',\n",
       " 'Cookies',\n",
       " 'Desktop',\n",
       " 'Documents',\n",
       " 'Downloads',\n",
       " 'Favorites',\n",
       " 'IntelGraphicsProfiles',\n",
       " 'keyring',\n",
       " 'Links',\n",
       " 'Local Settings',\n",
       " 'Music',\n",
       " 'NetHood',\n",
       " 'NTUSER.DAT',\n",
       " 'ntuser.dat.LOG1',\n",
       " 'ntuser.dat.LOG2',\n",
       " 'NTUSER.DAT{37dda6ed-965f-11ef-8d75-60f6775f465f}.TxR.0.regtrans-ms',\n",
       " 'NTUSER.DAT{37dda6ed-965f-11ef-8d75-60f6775f465f}.TxR.1.regtrans-ms',\n",
       " 'NTUSER.DAT{37dda6ed-965f-11ef-8d75-60f6775f465f}.TxR.2.regtrans-ms',\n",
       " 'NTUSER.DAT{37dda6ed-965f-11ef-8d75-60f6775f465f}.TxR.blf',\n",
       " 'NTUSER.DAT{37dda6ee-965f-11ef-8d75-60f6775f465f}.TM.blf',\n",
       " 'NTUSER.DAT{37dda6ee-965f-11ef-8d75-60f6775f465f}.TMContainer00000000000000000001.regtrans-ms',\n",
       " 'NTUSER.DAT{37dda6ee-965f-11ef-8d75-60f6775f465f}.TMContainer00000000000000000002.regtrans-ms',\n",
       " 'ntuser.ini',\n",
       " 'OneDrive',\n",
       " 'Pictures',\n",
       " 'PrintHood',\n",
       " 'Recent',\n",
       " 'Saved Games',\n",
       " 'Searches',\n",
       " 'SendTo',\n",
       " 'Start Menu',\n",
       " 'Templates',\n",
       " 'test-checkpoint.ipynb',\n",
       " 'test.ipynb',\n",
       " 'Untitled.ipynb',\n",
       " 'Untitled1.ipynb',\n",
       " 'Untitled2.ipynb',\n",
       " 'Untitled3.ipynb',\n",
       " 'Untitled4.ipynb',\n",
       " 'Videos']"
      ]
     },
     "execution_count": 373,
     "metadata": {},
     "output_type": "execute_result"
    }
   ],
   "source": [
    "os.listdir()"
   ]
  },
  {
   "cell_type": "code",
   "execution_count": 397,
   "id": "9dcfa659-4f84-47c5-8a9c-263786e423a7",
   "metadata": {},
   "outputs": [
    {
     "ename": "FileNotFoundError",
     "evalue": "[Errno 2] No such file or directory: 'yeni_dosya.txt'",
     "output_type": "error",
     "traceback": [
      "\u001b[1;31m---------------------------------------------------------------------------\u001b[0m",
      "\u001b[1;31mFileNotFoundError\u001b[0m                         Traceback (most recent call last)",
      "Cell \u001b[1;32mIn[397], line 1\u001b[0m\n\u001b[1;32m----> 1\u001b[0m yeni_dosya \u001b[38;5;241m=\u001b[39m os\u001b[38;5;241m.\u001b[39mopen( \u001b[38;5;124m\"\u001b[39m\u001b[38;5;124myeni_dosya.txt\u001b[39m\u001b[38;5;124m\"\u001b[39m, os\u001b[38;5;241m.\u001b[39mO_RDONLY)\n\u001b[0;32m      2\u001b[0m istatistik \u001b[38;5;241m=\u001b[39m os\u001b[38;5;241m.\u001b[39mstat(yeni_dosya)\n\u001b[0;32m      4\u001b[0m \u001b[38;5;28mprint\u001b[39m(istatistik)\n",
      "\u001b[1;31mFileNotFoundError\u001b[0m: [Errno 2] No such file or directory: 'yeni_dosya.txt'"
     ]
    }
   ],
   "source": [
    "yeni_dosya = os.open( \"yeni_dosya.txt\", os.O_RDONLY)\n",
    "istatistik = os.stat(yeni_dosya)\n",
    "\n",
    "print(istatistik)\n",
    "print(istatistik.st_size)\n",
    "\n",
    "icerik = os.read(yeni_dosya,istatistik.st_size)\n",
    "print(icerik.decode())\n",
    "os.close(yeni_dosya)"
   ]
  },
  {
   "cell_type": "code",
   "execution_count": 379,
   "id": "957111aa-2e93-42ff-a476-72a7dc8dc7bc",
   "metadata": {},
   "outputs": [
    {
     "name": "stdout",
     "output_type": "stream",
     "text": [
      " Volume in drive C has no label.\n",
      " Volume Serial Number is FA1D-C373\n",
      "\n",
      " Directory of C:\\Users\\ahmed\n",
      "\n",
      "30.12.2024  01:28    <DIR>          .\n",
      "30.10.2024  05:15    <DIR>          ..\n",
      "10.12.2024  15:19    <DIR>          .anaconda\n",
      "30.12.2024  01:29    <DIR>          .conda\n",
      "10.12.2024  15:14               146 .condarc\n",
      "10.12.2024  15:13    <DIR>          .continuum\n",
      "24.12.2024  17:40    <DIR>          .ipynb_checkpoints\n",
      "10.12.2024  15:21    <DIR>          .ipython\n",
      "11.12.2024  12:11    <DIR>          .jupyter\n",
      "05.11.2024  23:22    <DIR>          .vscode\n",
      "10.12.2024  15:14    <DIR>          anaconda3\n",
      "01.11.2024  12:50    <DIR>          ansel\n",
      "30.10.2024  04:58    <DIR>          Contacts\n",
      "12.12.2024  00:34    <DIR>          Desktop\n",
      "21.12.2024  23:41    <DIR>          Documents\n",
      "10.12.2024  17:45    <DIR>          Downloads\n",
      "30.10.2024  04:58    <DIR>          Favorites\n",
      "20.12.2024  15:19               897 keyring\n",
      "30.10.2024  04:58    <DIR>          Links\n",
      "30.10.2024  04:58    <DIR>          Music\n",
      "30.10.2024  05:00    <DIR>          OneDrive\n",
      "30.10.2024  04:58    <DIR>          Pictures\n",
      "30.10.2024  04:58    <DIR>          Saved Games\n",
      "31.10.2024  12:14    <DIR>          Searches\n",
      "30.12.2024  01:28            59.424 test.ipynb\n",
      "20.12.2024  15:18                72 test-checkpoint.ipynb\n",
      "10.12.2024  15:19                72 Untitled.ipynb\n",
      "10.12.2024  15:20                72 Untitled1.ipynb\n",
      "10.12.2024  17:31             2.354 Untitled2.ipynb\n",
      "24.12.2024  15:00                72 Untitled3.ipynb\n",
      "24.12.2024  17:40                72 Untitled4.ipynb\n",
      "31.10.2024  12:53    <DIR>          Videos\n",
      "               9 File(s)         63.181 bytes\n",
      "              23 Dir(s)  431.299.960.832 bytes free\n"
     ]
    }
   ],
   "source": [
    "%ls"
   ]
  },
  {
   "cell_type": "code",
   "execution_count": 381,
   "id": "30d9c33f-e223-446d-9124-5bbbc9c651c3",
   "metadata": {},
   "outputs": [
    {
     "data": {
      "text/plain": [
       "['ahmed', 'All Users', 'Default', 'Default User', 'desktop.ini', 'Public']"
      ]
     },
     "execution_count": 381,
     "metadata": {},
     "output_type": "execute_result"
    }
   ],
   "source": [
    "os.listdir('C:\\\\Users')"
   ]
  },
  {
   "cell_type": "code",
   "execution_count": 383,
   "id": "e34b7138-94b7-4283-b58b-f10e8804d86e",
   "metadata": {},
   "outputs": [
    {
     "name": "stdout",
     "output_type": "stream",
     "text": [
      ".anacondaAHMET CAN AYGÜN\n",
      ".condaAHMET CAN AYGÜN\n",
      ".condarcAHMET CAN AYGÜN\n",
      ".continuumAHMET CAN AYGÜN\n",
      ".ipynb_checkpointsAHMET CAN AYGÜN\n",
      ".ipythonAHMET CAN AYGÜN\n",
      ".jupyterAHMET CAN AYGÜN\n",
      ".vscodeAHMET CAN AYGÜN\n",
      "anaconda3AHMET CAN AYGÜN\n",
      "anselAHMET CAN AYGÜN\n",
      "AppDataAHMET CAN AYGÜN\n",
      "Application DataAHMET CAN AYGÜN\n",
      "BelgelerimAHMET CAN AYGÜN\n",
      "ContactsAHMET CAN AYGÜN\n",
      "CookiesAHMET CAN AYGÜN\n",
      "DesktopAHMET CAN AYGÜN\n",
      "DocumentsAHMET CAN AYGÜN\n",
      "DownloadsAHMET CAN AYGÜN\n",
      "FavoritesAHMET CAN AYGÜN\n",
      "IntelGraphicsProfilesAHMET CAN AYGÜN\n",
      "keyringAHMET CAN AYGÜN\n",
      "LinksAHMET CAN AYGÜN\n",
      "Local SettingsAHMET CAN AYGÜN\n",
      "MusicAHMET CAN AYGÜN\n",
      "NetHoodAHMET CAN AYGÜN\n",
      "NTUSER.DATAHMET CAN AYGÜN\n",
      "ntuser.dat.LOG1AHMET CAN AYGÜN\n",
      "ntuser.dat.LOG2AHMET CAN AYGÜN\n",
      "NTUSER.DAT{37dda6ed-965f-11ef-8d75-60f6775f465f}.TxR.0.regtrans-msAHMET CAN AYGÜN\n",
      "NTUSER.DAT{37dda6ed-965f-11ef-8d75-60f6775f465f}.TxR.1.regtrans-msAHMET CAN AYGÜN\n",
      "NTUSER.DAT{37dda6ed-965f-11ef-8d75-60f6775f465f}.TxR.2.regtrans-msAHMET CAN AYGÜN\n",
      "NTUSER.DAT{37dda6ed-965f-11ef-8d75-60f6775f465f}.TxR.blfAHMET CAN AYGÜN\n",
      "NTUSER.DAT{37dda6ee-965f-11ef-8d75-60f6775f465f}.TM.blfAHMET CAN AYGÜN\n",
      "NTUSER.DAT{37dda6ee-965f-11ef-8d75-60f6775f465f}.TMContainer00000000000000000001.regtrans-msAHMET CAN AYGÜN\n",
      "NTUSER.DAT{37dda6ee-965f-11ef-8d75-60f6775f465f}.TMContainer00000000000000000002.regtrans-msAHMET CAN AYGÜN\n",
      "ntuser.iniAHMET CAN AYGÜN\n",
      "OneDriveAHMET CAN AYGÜN\n",
      "PicturesAHMET CAN AYGÜN\n",
      "PrintHoodAHMET CAN AYGÜN\n",
      "RecentAHMET CAN AYGÜN\n",
      "Saved GamesAHMET CAN AYGÜN\n",
      "SearchesAHMET CAN AYGÜN\n",
      "SendToAHMET CAN AYGÜN\n",
      "Start MenuAHMET CAN AYGÜN\n",
      "TemplatesAHMET CAN AYGÜN\n",
      "test-checkpoint.ipynbAHMET CAN AYGÜN\n",
      "test.ipynbAHMET CAN AYGÜN\n",
      "Untitled.ipynbAHMET CAN AYGÜN\n",
      "Untitled1.ipynbAHMET CAN AYGÜN\n",
      "Untitled2.ipynbAHMET CAN AYGÜN\n",
      "Untitled3.ipynbAHMET CAN AYGÜN\n",
      "Untitled4.ipynbAHMET CAN AYGÜN\n",
      "VideosAHMET CAN AYGÜN\n"
     ]
    }
   ],
   "source": [
    "dosyalar = os.listdir()\n",
    "for eleman in dosyalar:\n",
    "    print(eleman + 'AHMET CAN AYGÜN')"
   ]
  },
  {
   "cell_type": "code",
   "execution_count": 385,
   "id": "93c486cf-71ee-42d0-bcf8-10e591e210cf",
   "metadata": {},
   "outputs": [],
   "source": [
    "os.mkdir(\"deneme_yeni\")"
   ]
  },
  {
   "cell_type": "code",
   "execution_count": 411,
   "id": "df8eddd0-629b-4cd0-a7e6-69cfee88f3f3",
   "metadata": {},
   "outputs": [
    {
     "name": "stdout",
     "output_type": "stream",
     "text": [
      " sevdigim (2, 11)\n",
      " kanal (11, 17)\n",
      " base42 (17, 24)\n"
     ]
    }
   ],
   "source": [
    "cumle = \"En sevdigim kanal base42.\"\n",
    "patern = r\"\\s\\w{5,}\"\n",
    "\n",
    "for eslesme in re.finditer(patern, cumle):\n",
    "    print(eslesme.group(), eslesme.span())"
   ]
  },
  {
   "cell_type": "code",
   "execution_count": 413,
   "id": "26e10023-3b88-498d-b9ba-d73abeff77b0",
   "metadata": {},
   "outputs": [
    {
     "name": "stdout",
     "output_type": "stream",
     "text": [
      " (0, 0)\n",
      " (1, 1)\n",
      " (2, 2)\n",
      " (3, 3)\n",
      " (4, 4)\n",
      " (5, 5)\n",
      " (6, 6)\n",
      " (7, 7)\n",
      " (8, 8)\n",
      " (9, 9)\n",
      " (10, 10)\n",
      " (11, 11)\n",
      " (12, 12)\n",
      " (13, 13)\n",
      " (14, 14)\n",
      " (15, 15)\n",
      " (16, 16)\n",
      " (17, 17)\n",
      " (18, 18)\n",
      " (19, 19)\n",
      " (20, 20)\n",
      " (21, 21)\n",
      "4 (22, 23)\n",
      "2 (23, 24)\n",
      " (24, 24)\n",
      " (25, 25)\n"
     ]
    }
   ],
   "source": [
    "patern = r\"\\d?\"\n",
    "\n",
    "for eslesme in re.finditer(patern, cumle):\n",
    "    print(eslesme.group(), eslesme.span())"
   ]
  },
  {
   "cell_type": "code",
   "execution_count": 415,
   "id": "bf951c88-5f38-4413-9c1e-228c1a42f393",
   "metadata": {},
   "outputs": [
    {
     "name": "stdout",
     "output_type": "stream",
     "text": [
      "42 (22, 24)\n"
     ]
    }
   ],
   "source": [
    "patern = r\"\\d+\"\n",
    "\n",
    "for eslesme in re.finditer(patern, cumle):\n",
    "    print(eslesme.group(), eslesme.span())"
   ]
  },
  {
   "cell_type": "code",
   "execution_count": 417,
   "id": "7cc1baa2-abda-4834-b9c9-9059ef411614",
   "metadata": {},
   "outputs": [
    {
     "name": "stdout",
     "output_type": "stream",
     "text": [
      "base42 (18, 24)\n"
     ]
    }
   ],
   "source": [
    "patern = r\"\\w*\\d+\"\n",
    "\n",
    "for eslesme in re.finditer(patern, cumle):\n",
    "    print(eslesme.group(), eslesme.span())"
   ]
  },
  {
   "cell_type": "code",
   "execution_count": 419,
   "id": "5185b393-33bf-448e-aaa0-207cc6a25773",
   "metadata": {},
   "outputs": [
    {
     "name": "stdout",
     "output_type": "stream",
     "text": [
      "42 (18, 20)\n"
     ]
    }
   ],
   "source": [
    "cumle = \"En sevdigim kanal 42base.\"\n",
    "patern = r\"\\w*\\d+\"\n",
    "\n",
    "for eslesme in re.finditer(patern, cumle):\n",
    "    print(eslesme.group(), eslesme.span())"
   ]
  },
  {
   "cell_type": "code",
   "execution_count": 407,
   "id": "8f922a1c-6e24-4b38-9645-2bb14e43f873",
   "metadata": {},
   "outputs": [],
   "source": [
    "def gsm_operator_bul(tel_no):\n",
    "    patern = r\"(\\d{3})-(\\d{7})\"\n",
    "    eslesme = re.search(patern, tel_no)\n",
    "    \n",
    "    if eslesme:\n",
    "        gsm_kod = eslesme.groups()[0]\n",
    "        print(gsm_kod)\n",
    "        if gsm_kod.startswith(\"54\"):\n",
    "            return \"Vodafone\"\n",
    "        elif gsm_kod.startswith(\"501\") or gsm_kod.startswith(\"505\") or gsm_kod.startswith(\"506\"):\n",
    "            return \"AVEA\"\n",
    "        elif gsm_kod.startswith(\"53\"):\n",
    "            return \"Turkcell\"\n",
    "        else:\n",
    "            return \"Sebeke bulunamadi\"\n",
    "    else:\n",
    "        return \"Patern bulunamadi\""
   ]
  },
  {
   "cell_type": "code",
   "execution_count": null,
   "id": "98501548-313d-4510-be97-ec75a2676216",
   "metadata": {},
   "outputs": [],
   "source": []
  },
  {
   "cell_type": "code",
   "execution_count": null,
   "id": "bfe10167-59d5-440c-b326-cda9d312e3f0",
   "metadata": {},
   "outputs": [],
   "source": []
  },
  {
   "cell_type": "code",
   "execution_count": 409,
   "id": "320a0a21-4825-4346-96d2-94dc299cc57f",
   "metadata": {},
   "outputs": [
    {
     "name": "stdout",
     "output_type": "stream",
     "text": [
      "535\n"
     ]
    },
    {
     "data": {
      "text/plain": [
       "'Turkcell'"
      ]
     },
     "execution_count": 409,
     "metadata": {},
     "output_type": "execute_result"
    }
   ],
   "source": [
    "tel_no = \"Selam, benim telefon numaram 0535-8886622.\"\n",
    "gsm_operator_bul(tel_no)"
   ]
  },
  {
   "cell_type": "code",
   "execution_count": 403,
   "id": "5002b9e7-cdfd-49b0-99a4-67ae3cf9146d",
   "metadata": {},
   "outputs": [],
   "source": [
    "import re\n",
    "\n",
    "def mesaj_hissi_bul(mesaj):\n",
    "    hisler = []\n",
    "    \n",
    "    pozitif_patern = r\"(merhaba|selam|ask|sevgi|dost|kardes|:\\)+)\"\n",
    "    negatif_patern = r\"(lan|aptal|abv|yeter|birak)\"\n",
    "    \n",
    "    heyecanli_patern = r\"!|[!|?]{2,}$\"\n",
    "    sakin_patern = r\"^[Tabi+|Hayhay]\"\n",
    "    \n",
    "    emin_patern = r\"[K|k]esin|[T|t]abi|[E|e]lbet\"\n",
    "    kararsiz_patern = r\"[B|b]elki|[S|s]anirim\"\n",
    "    \n",
    "    if re.search(pozitif_patern, mesaj):\n",
    "        hisler.append(\"Pozitif\")\n",
    "    if re.search(negatif_patern, mesaj):\n",
    "        hisler.append(\"Negatif\")\n",
    "    if re.search(heyecanli_patern, mesaj):\n",
    "        hisler.append(\"Heyecanli\")\n",
    "    if re.search(sakin_patern, mesaj):\n",
    "        hisler.append(\"Sakin\")\n",
    "    if re.search(emin_patern, mesaj):\n",
    "        hisler.append(\"Emin\")\n",
    "    if re.search(kararsiz_patern, mesaj):\n",
    "        hisler.append(\"Kararsiz\")\n",
    "    \n",
    "    return hisler"
   ]
  },
  {
   "cell_type": "code",
   "execution_count": 405,
   "id": "5e1c52f9-165c-4ff0-beb4-50019ba9b77e",
   "metadata": {},
   "outputs": [
    {
     "name": "stdout",
     "output_type": "stream",
     "text": [
      "Naber abi? :)              \t ['Pozitif']\n",
      "Tabiii ki buyrun           \t ['Sakin', 'Emin']\n",
      "Sacmalamayi birak artik!   \t ['Negatif', 'Heyecanli']\n",
      "Belki yarindan da yakin... \t ['Kararsiz']\n",
      "Elbet birgün bulusacagiz   \t ['Emin']\n"
     ]
    }
   ],
   "source": [
    "cumle1 = \"Naber abi? :)             \"\n",
    "cumle2 = \"Tabiii ki buyrun          \"\n",
    "cumle3 = \"Sacmalamayi birak artik!  \"\n",
    "cumle4 = \"Belki yarindan da yakin...\"\n",
    "cumle5 = \"Elbet birgün bulusacagiz  \"\n",
    "cumleler = [cumle1, cumle2, cumle3, cumle4, cumle5]\n",
    "for cumle in cumleler :\n",
    "    print(cumle, '\\t', mesaj_hissi_bul(cumle))"
   ]
  }
 ],
 "metadata": {
  "kernelspec": {
   "display_name": "Python [conda env:base] *",
   "language": "python",
   "name": "conda-base-py"
  },
  "language_info": {
   "codemirror_mode": {
    "name": "ipython",
    "version": 3
   },
   "file_extension": ".py",
   "mimetype": "text/x-python",
   "name": "python",
   "nbconvert_exporter": "python",
   "pygments_lexer": "ipython3",
   "version": "3.12.7"
  }
 },
 "nbformat": 4,
 "nbformat_minor": 5
}
